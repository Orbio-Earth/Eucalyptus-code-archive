{
 "cells": [
  {
   "cell_type": "markdown",
   "id": "0",
   "metadata": {},
   "source": [
    "# EMIT MF watershed parametrization\n",
    "\n",
    "Also consider morphological operations\n",
    "\n",
    "Ticket: [#1414](https://git.orbio.earth/orbio/orbio/-/issues/1414)"
   ]
  },
  {
   "cell_type": "code",
   "execution_count": null,
   "id": "1",
   "metadata": {},
   "outputs": [],
   "source": [
    "import fsspec\n",
    "import matplotlib.pyplot as plt\n",
    "import numpy as np\n",
    "import pandas as pd\n",
    "import xarray as xr\n",
    "from lib.plume_masking import retrieval_mask_using_watershed_algo, sobel_marker_coordinates\n",
    "from satellite_data_product.emit.masking import mask_retrieval_watershed"
   ]
  },
  {
   "cell_type": "code",
   "execution_count": null,
   "id": "2",
   "metadata": {},
   "outputs": [],
   "source": [
    "with fsspec.open(\n",
    "    \"azureml://subscriptions/6e71ce37-b9fe-4c43-942b-cf0f7e78c8ab/resourcegroups/orbio-ml-rg/workspaces/\"\n",
    "    \"orbio-ml-ml-workspace/datastores/workspaceblobstore/paths/data/emit/emit_mf_gt_retrievals.nc\"\n",
    ") as fs:\n",
    "    mfda = xr.open_dataset(fs)[\"mf_retrievals\"].load()"
   ]
  },
  {
   "cell_type": "code",
   "execution_count": null,
   "id": "3",
   "metadata": {},
   "outputs": [],
   "source": [
    "# Adaptation of `satellite_data_product.emit.masking.mask_retrieval_watershed` that allows us to have a\n",
    "# fixed-value floor threshold rather than one based on quantiles\n",
    "def mask_retrieval_watershed_alt(\n",
    "    retrieval: np.ndarray,\n",
    "    masked_distance: int = 1,\n",
    "    watershed_floor_threshold: float = 0.02,\n",
    "    marker_threshold: float = 0.997,\n",
    ") -> np.ndarray:\n",
    "    \"\"\"\n",
    "    Apply watershed masking to the retrieval.\n",
    "\n",
    "    Masking should be agnostic to the retrieval units, so retrieval can either be in mol/m2 or ppm. Default\n",
    "    parameters are tuned to EMIT retrieval data.\n",
    "    \"\"\"\n",
    "    # NOTE: EMIT retrievals have -9999 as no data. We want to remove these so watershed performs better\n",
    "    retrieval = np.where(retrieval <= 0, np.nan, retrieval)\n",
    "\n",
    "    marker_coords = sobel_marker_coordinates(\n",
    "        retrieval, masked_distance=masked_distance, marker_threshold=marker_threshold\n",
    "    )\n",
    "    return retrieval_mask_using_watershed_algo(\n",
    "        retrieval, marker_coords=marker_coords, watershed_floor_threshold=watershed_floor_threshold\n",
    "    )"
   ]
  },
  {
   "cell_type": "code",
   "execution_count": null,
   "id": "4",
   "metadata": {},
   "outputs": [],
   "source": [
    "from skimage.morphology import binary_closing"
   ]
  },
  {
   "cell_type": "code",
   "execution_count": null,
   "id": "5",
   "metadata": {},
   "outputs": [],
   "source": [
    "site_granule_map = pd.read_csv(\"../emit-cv-mf-comparison/emit_gt_granule_map.csv\", index_col=\"dual_index\")"
   ]
  },
  {
   "cell_type": "code",
   "execution_count": null,
   "id": "6",
   "metadata": {},
   "outputs": [],
   "source": [
    "n_samples = 15\n",
    "\n",
    "n_cols = 7\n",
    "fig_scaling = 3\n",
    "\n",
    "closing_footprint = np.ones((3, 3), dtype=bool)\n",
    "\n",
    "samples = site_granule_map.sample(n=n_samples)\n",
    "\n",
    "for site_id, site_props in samples.iterrows():\n",
    "    fig = plt.figure(figsize=(fig_scaling * n_cols, fig_scaling))\n",
    "    try:\n",
    "        x = mfda.sel(dual_index=site_id).isel(band=0)\n",
    "    except KeyError:\n",
    "        print(f\"Missing retrieval for {site_id}\")\n",
    "        continue\n",
    "    y_current = mask_retrieval_watershed(x)\n",
    "    fixed_floor = 0.02\n",
    "    y_fixed_threshold = mask_retrieval_watershed_alt(x, watershed_floor_threshold=fixed_floor)\n",
    "    tuned_quantile = 0.385\n",
    "    y_tuned_quantile_threshold = mask_retrieval_watershed(x, watershed_floor_quantile=tuned_quantile)\n",
    "\n",
    "    plot_payload = [\n",
    "        {\"label\": \"Retrieval\", \"data\": x, \"plt_kwargs\": {\"cmap\": \"Reds\", \"vmin\": 0}},\n",
    "        {\"label\": \"Current quantile (0.2)\", \"data\": y_current},\n",
    "        {\"label\": \"Current w/ closing\", \"data\": binary_closing(y_current, footprint=closing_footprint)},\n",
    "        {\"label\": f\"Tuned quantile ({tuned_quantile})\", \"data\": y_tuned_quantile_threshold},\n",
    "        {\n",
    "            \"label\": \"Tuned quantile w/ closing\",\n",
    "            \"data\": binary_closing(y_tuned_quantile_threshold, footprint=closing_footprint),\n",
    "        },\n",
    "        {\"label\": f\"Fixed floor ({fixed_floor})\", \"data\": y_fixed_threshold},\n",
    "        {\"label\": \"Fixed floor w/ closing\", \"data\": binary_closing(y_fixed_threshold, footprint=closing_footprint)},\n",
    "    ]\n",
    "\n",
    "    print(site_id)  # for easier copy/pasting\n",
    "    for i, d in enumerate(plot_payload, start=1):\n",
    "        ax = plt.subplot(1, n_cols, i)\n",
    "        ax.imshow(d[\"data\"], **d.get(\"plt_kwargs\", {}))\n",
    "        ax.set_title(d[\"label\"])\n",
    "        ax.axis(\"off\")\n",
    "\n",
    "    fig.suptitle(f\"{site_id} (estimated {int(site_props.quantification_kg_h):,} kg/hr)\")"
   ]
  }
 ],
 "metadata": {
  "kernelspec": {
   "display_name": "Python 3 (ipykernel)",
   "language": "python",
   "name": "python3"
  },
  "language_info": {
   "codemirror_mode": {
    "name": "ipython",
    "version": 3
   },
   "file_extension": ".py",
   "mimetype": "text/x-python",
   "name": "python",
   "nbconvert_exporter": "python",
   "pygments_lexer": "ipython3",
   "version": "3.10.12"
  }
 },
 "nbformat": 4,
 "nbformat_minor": 5
}
