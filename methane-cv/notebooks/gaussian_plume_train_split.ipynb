{
 "cells": [
  {
   "cell_type": "markdown",
   "id": "42369d8c-7229-4057-9050-7ff3225558f0",
   "metadata": {},
   "source": [
    "# Training and Validation Splits for Gaussian Plumes\n",
    "\n",
    "Since the gaussian plumes are randomly generated and have ids incremented from 0, \n",
    "we can do training / validation split by just indexing the sorted list of files."
   ]
  },
  {
   "cell_type": "code",
   "execution_count": 70,
   "id": "058e01eb-471e-431c-bf69-55839338a55b",
   "metadata": {},
   "outputs": [],
   "source": [
    "import json\n",
    "from tempfile import TemporaryDirectory\n",
    "from pathlib import PurePosixPath\n",
    "\n",
    "from azureml.fsspec import AzureMachineLearningFileSystem\n",
    "\n",
    "from src.azure_wrap.blob_storage_sdk_v2 import DATASTORE_URI, upload_dir\n",
    "from src.data.generation.plumes.generate import GAUSSIAN_PLUME_BLOB\n",
    "\n",
    "fs = AzureMachineLearningFileSystem(DATASTORE_URI)\n",
    "plume_files = sorted(list(fs.glob(f\"{GAUSSIAN_PLUME_BLOB / 'plumes'}/**/*.tif\")))"
   ]
  },
  {
   "cell_type": "code",
   "execution_count": 74,
   "id": "4d96640d-abe0-4867-9b00-585ca1452f85",
   "metadata": {},
   "outputs": [],
   "source": [
    "# strip out the entire path except for the azure part and the filename\n",
    "# we do this because all the other plume files are stored like this\n",
    "def format_plume_filename(file: str) -> str:\n",
    "    return \"azureml://\" + PurePosixPath(file).name"
   ]
  },
  {
   "cell_type": "code",
   "execution_count": 75,
   "id": "c486f55d-ece8-4771-883f-3a972e8a642b",
   "metadata": {},
   "outputs": [
    {
     "data": {
      "text/plain": [
       "['azureml://gaussian_plume_0000001.tif',\n",
       " 'azureml://gaussian_plume_0000002.tif',\n",
       " 'azureml://gaussian_plume_0000003.tif',\n",
       " 'azureml://gaussian_plume_0000004.tif',\n",
       " 'azureml://gaussian_plume_0000005.tif']"
      ]
     },
     "execution_count": 75,
     "metadata": {},
     "output_type": "execute_result"
    }
   ],
   "source": [
    "formatted_plume_files = [format_plume_filename(f) for f in plume_files]\n",
    "formatted_plume_files[0:5]"
   ]
  },
  {
   "cell_type": "code",
   "execution_count": 76,
   "id": "1a257fc4-12c0-4cfc-8a97-69e46a7f713a",
   "metadata": {},
   "outputs": [
    {
     "data": {
      "text/plain": [
       "(10000, 8000, 2000)"
      ]
     },
     "execution_count": 76,
     "metadata": {},
     "output_type": "execute_result"
    }
   ],
   "source": [
    "train_percent = 0.8\n",
    "\n",
    "train_idx = int(len(formatted_plume_files) * train_percent)\n",
    "train_files = formatted_plume_files[:train_idx]\n",
    "val_files = formatted_plume_files[train_idx:]\n",
    "\n",
    "len(formatted_plume_files), len(train_files), len(val_files)"
   ]
  },
  {
   "cell_type": "code",
   "execution_count": 78,
   "id": "9d37cbfc-4bdf-4b00-8c64-37049e6dce1b",
   "metadata": {},
   "outputs": [],
   "source": [
    "train_filename = \"_gaussian_plume_uris_training.json\"\n",
    "val_filename = \"_gaussian_plume_uris_validation.json\"\n",
    "\n",
    "with TemporaryDirectory() as tempdir:\n",
    "    tempdir = Path(tempdir)\n",
    "    with open(tempdir / train_filename, \"w\") as f:\n",
    "        json.dump(train_files, f)\n",
    "\n",
    "    with open(tempdir / val_filename, \"w\") as f:\n",
    "        json.dump(val_files, f)\n",
    "\n",
    "    upload_dir(tempdir / train_filename, GAUSSIAN_PLUME_BLOB.as_posix(), recursive=False)\n",
    "    upload_dir(tempdir / val_filename, GAUSSIAN_PLUME_BLOB.as_posix(), recursive=False)"
   ]
  },
  {
   "cell_type": "code",
   "execution_count": null,
   "id": "30b4ed75-b9a4-4b63-9100-312cdc3efa91",
   "metadata": {},
   "outputs": [],
   "source": []
  }
 ],
 "metadata": {
  "kernelspec": {
   "display_name": "Python 3 (ipykernel)",
   "language": "python",
   "name": "python3"
  },
  "language_info": {
   "codemirror_mode": {
    "name": "ipython",
    "version": 3
   },
   "file_extension": ".py",
   "mimetype": "text/x-python",
   "name": "python",
   "nbconvert_exporter": "python",
   "pygments_lexer": "ipython3",
   "version": "3.10.12"
  }
 },
 "nbformat": 4,
 "nbformat_minor": 5
}
