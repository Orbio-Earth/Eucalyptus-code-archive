{
 "cells": [
  {
   "cell_type": "markdown",
   "id": "9e6c1370-f8c6-4c44-9cfd-748430866d4d",
   "metadata": {},
   "source": [
    "# U-Net–MF comparison\n",
    "\n",
    "Create EMIT MF config for comparison with U-Net over \"ground truth\" sites."
   ]
  },
  {
   "cell_type": "code",
   "execution_count": 1,
   "id": "6dc1d1ff-3c32-4987-9090-72283e974d38",
   "metadata": {},
   "outputs": [],
   "source": [
    "import datetime\n",
    "from math import ceil\n",
    "\n",
    "import fsspec\n",
    "import joblib\n",
    "import matplotlib.pyplot as plt\n",
    "import pandas as pd\n",
    "import xarray as xr\n",
    "\n",
    "from src.inference.inference_functions import prepare_data_item, predict\n",
    "from src.training.loss_functions import TwoPartLoss\n",
    "from src.utils.parameters import SatelliteID\n",
    "from src.utils.utils import load_model_and_concatenator"
   ]
  },
  {
   "cell_type": "code",
   "execution_count": 2,
   "id": "b863fd2b-6f26-4a9d-acff-feea73083b1e",
   "metadata": {},
   "outputs": [],
   "source": [
    "site_granule_map = pd.read_csv(\"emit_gt_granule_map.csv\", index_col=\"dual_index\")"
   ]
  },
  {
   "cell_type": "markdown",
   "id": "ccb381b3-2c4f-4897-935b-287401650a1b",
   "metadata": {
    "jp-MarkdownHeadingCollapsed": true
   },
   "source": [
    "### Load in model etc for inference"
   ]
  },
  {
   "cell_type": "code",
   "execution_count": null,
   "id": "b84a53b7-bf23-4d7c-a581-e331536034d1",
   "metadata": {},
   "outputs": [],
   "source": [
    "model_name = \"models:/emit/8\""
   ]
  },
  {
   "cell_type": "code",
   "execution_count": null,
   "id": "a9e3db60-b5c6-4a7a-bd2b-b5083bb359ae",
   "metadata": {},
   "outputs": [],
   "source": [
    "model, band_extractor, model_params = load_model_and_concatenator(\n",
    "    model_name, device=\"cpu\", satellite_id=SatelliteID.EMIT\n",
    ")\n",
    "lossFn = TwoPartLoss(binary_threshold=model_params[\"binary_threshold\"], MSE_multiplier=model_params[\"MSE_multiplier\"])"
   ]
  },
  {
   "cell_type": "markdown",
   "id": "39221157-f813-46f0-ae22-c87881d517c3",
   "metadata": {},
   "source": [
    "### Load in MF results"
   ]
  },
  {
   "cell_type": "code",
   "execution_count": 11,
   "id": "9ad1fd82-d3c4-405a-9842-ab4c182e1031",
   "metadata": {},
   "outputs": [],
   "source": [
    "with fsspec.open(\n",
    "    \"azureml://subscriptions/6e71ce37-b9fe-4c43-942b-cf0f7e78c8ab/resourcegroups/orbio-ml-rg/workspaces/\"\n",
    "    \"orbio-ml-ml-workspace/datastores/workspaceblobstore/paths/data/emit/emit_mf_gt_retrievals.nc\"\n",
    ") as fs:\n",
    "    mfda = xr.open_dataset(fs)[\"mf_retrievals\"]"
   ]
  },
  {
   "cell_type": "code",
   "execution_count": 4,
   "id": "5b7d2d24-99f3-4fa4-8d35-563a5633deb5",
   "metadata": {},
   "outputs": [],
   "source": [
    "def plot_single_site_comparison(site: pd.Series) -> plt.Figure:\n",
    "    # Get our cached Radiance for running inference\n",
    "    cv_rad_cache_uri = (\n",
    "        \"azureml://subscriptions/6e71ce37-b9fe-4c43-942b-cf0f7e78c8ab/resourcegroups/orbio-ml-rg/workspaces/orbio-ml-ml-workspace/\"\n",
    "        f\"datastores/workspaceblobstore/paths/data/emit/crop_cache/{site.emit_id}/{site.lat}_{site.lon}_128.joblib.gz\"\n",
    "    )\n",
    "\n",
    "    with fsspec.open(cv_rad_cache_uri) as fs:\n",
    "        cache = joblib.load(fs)\n",
    "\n",
    "    # Prepare the data for out model\n",
    "    data_item = prepare_data_item(\n",
    "        cropped_data=[cache],\n",
    "        crop_size=cache[\"crop_params\"][\"out_height\"],\n",
    "        satellite=SatelliteID.EMIT,\n",
    "    )\n",
    "\n",
    "    # Run inference\n",
    "    prediction = predict(\n",
    "        model=model, device=\"cpu\", band_extractor=band_extractor, recycled_item=data_item, lossFn=lossFn\n",
    "    )\n",
    "\n",
    "    # Plot\n",
    "    pred_plot_keys = [\"binary_probability\", \"conditional_pred\", \"marginal_pred\"]\n",
    "    n_mf_plots = 1\n",
    "\n",
    "    n_cols = 4\n",
    "    n_rows = ceil((len(pred_plot_keys) + n_mf_plots) / n_cols)\n",
    "\n",
    "    fig_scaling = 4\n",
    "\n",
    "    fig = plt.figure(figsize=(n_cols * fig_scaling, n_rows * fig_scaling))\n",
    "\n",
    "    # CV plots\n",
    "\n",
    "    for i, k in enumerate(pred_plot_keys, start=1):\n",
    "        data = prediction[k].squeeze()\n",
    "\n",
    "        ax = fig.add_subplot(n_rows, n_cols, i)\n",
    "        im = ax.imshow(data)\n",
    "        plt.colorbar(im, ax=ax)\n",
    "        ax.axis(\"off\")\n",
    "        ax.set_title(f\"CV {k}\")\n",
    "\n",
    "    # MF plots\n",
    "\n",
    "    mf_retrieval = mfda.sel(dual_index=site.name).squeeze()\n",
    "\n",
    "    ax = fig.add_subplot(n_rows, n_cols, i + 1)\n",
    "    im = ax.imshow(mf_retrieval)\n",
    "    plt.colorbar(im, ax=ax)\n",
    "    ax.axis(\"off\")\n",
    "    ax.set_title(\"MF retrieval\")\n",
    "\n",
    "    props_str = \", \".join(f\"{k}: {site[k]}\" for k in [\"quantification_kg_h\", \"source\", \"lat\", \"lon\", \"date\"])\n",
    "    fig.text(0.01, 0.02, f\"{props_str}; Warning: MF retrieval has different orientation due to orthorectification.\")\n",
    "\n",
    "    fig.suptitle(f\"{model_name.split('/', 1)[1]}: {site.name}\")\n",
    "    plt.tight_layout()\n",
    "\n",
    "    return fig"
   ]
  },
  {
   "cell_type": "markdown",
   "id": "51b06bc2-503d-4b14-923e-893dfe87dba1",
   "metadata": {
    "jp-MarkdownHeadingCollapsed": true
   },
   "source": [
    "### Check single site"
   ]
  },
  {
   "cell_type": "code",
   "execution_count": null,
   "id": "347fcc07-3b4f-44fb-9c8e-afe300ee6839",
   "metadata": {},
   "outputs": [],
   "source": [
    "site = site_granule_map.iloc[2]\n",
    "granule_id = site[\"emit_id\"]\n",
    "date = datetime.datetime.fromisoformat(site[\"date\"])"
   ]
  },
  {
   "cell_type": "code",
   "execution_count": null,
   "id": "46687965-8e37-40a4-a588-1499c37176ba",
   "metadata": {},
   "outputs": [],
   "source": [
    "_ = plot_single_site_comparison(site)"
   ]
  },
  {
   "cell_type": "markdown",
   "id": "a56ec2dc-cb77-4266-910e-a4625241419f",
   "metadata": {
    "jp-MarkdownHeadingCollapsed": true
   },
   "source": [
    "### Plot all sites\n",
    "\n",
    "For a single model."
   ]
  },
  {
   "cell_type": "code",
   "execution_count": null,
   "id": "440a5b6b-6b66-4524-8ad1-5e7d7da9875a",
   "metadata": {},
   "outputs": [],
   "source": [
    "%%time\n",
    "\n",
    "model_cleanname = model_name.split(\"/\", 1)[1].replace(\"/\", \"_\")\n",
    "out_dir = f\"figures/{model_cleanname}\"\n",
    "os.makedirs(out_dir, exist_ok=True)\n",
    "\n",
    "for _, site in site_granule_map.iterrows():\n",
    "    try:\n",
    "        fig = plot_single_site_comparison(site)\n",
    "        fig.savefig(f\"{out_dir}/{site.name}.png\")\n",
    "    except KeyError:\n",
    "        print(f\"Failed to plot {site.name}. Skipping.\")\n",
    "\n",
    "    plt.close()"
   ]
  },
  {
   "cell_type": "markdown",
   "id": "77e52873-0350-4c2b-af0b-4e9e3da1a694",
   "metadata": {},
   "source": [
    "### Compare preplotted\n",
    "\n",
    "Requires that we plotted the ground truth sites for a given model in the above section.\n",
    "\n",
    "May require installing `ipywidgets`: `pip install ipywidgets`"
   ]
  },
  {
   "cell_type": "code",
   "execution_count": 7,
   "id": "3aff6141-506d-457b-8181-90a41bc81b72",
   "metadata": {},
   "outputs": [],
   "source": [
    "import ipywidgets as widgets\n",
    "from IPython.display import display"
   ]
  },
  {
   "cell_type": "code",
   "execution_count": 5,
   "id": "111efc37-40d0-4041-b61d-57a8466bff46",
   "metadata": {},
   "outputs": [],
   "source": [
    "# The registered model name and id with underscores replacing slashes\n",
    "compare_models = [\n",
    "    # \"torchgeo_pwr_unet_emit_54\",  # gray_egg: unet, resnet50, but pretrained\n",
    "    \"torchgeo_pwr_unet_emit_56\",  # nifty_collar: unet++ b1\n",
    "    # \"torchgeo_pwr_unet_emit_58\",  # gray_cat: unet,resnet50,no pretraining\n",
    "    \"emit_8\",  # upbeat_rose spectralunet++ b1 (training in progress)\n",
    "]"
   ]
  },
  {
   "cell_type": "code",
   "execution_count": 8,
   "id": "29570e60-e533-4bde-bb55-ee3692515a51",
   "metadata": {},
   "outputs": [
    {
     "data": {
      "application/vnd.jupyter.widget-view+json": {
       "model_id": "09a6104d774a41deb9d9c659aff7d8d5",
       "version_major": 2,
       "version_minor": 0
      },
      "text/plain": [
       "HBox(children=(Button(icon='arrow-left', style=ButtonStyle(), tooltip='Previous'), Button(icon='arrow-right', …"
      ]
     },
     "metadata": {},
     "output_type": "display_data"
    },
    {
     "data": {
      "application/vnd.jupyter.widget-view+json": {
       "model_id": "90af220d961f4a1db11af8f7c8b7ed4d",
       "version_major": 2,
       "version_minor": 0
      },
      "text/plain": [
       "Box(children=(Output(),))"
      ]
     },
     "metadata": {},
     "output_type": "display_data"
    }
   ],
   "source": [
    "current_iloc = 0\n",
    "max_iloc = site_granule_map.shape[0] - 1\n",
    "\n",
    "back_button = widgets.Button(tooltip=\"Previous\", icon=\"arrow-left\")\n",
    "\n",
    "next_button = widgets.Button(tooltip=\"Next\", icon=\"arrow-right\")\n",
    "\n",
    "image_widgets = {}\n",
    "for model_name in compare_models:\n",
    "    image_widgets[model_name] = widgets.Image(format=\"png\", width=900, height=300)\n",
    "\n",
    "\n",
    "def render_comparison_images(site: pd.Series):\n",
    "    for model_name, image_widget in image_widgets.items():\n",
    "        with open(f\"figures/{model_name}/{site.name}.png\", \"rb\") as fs:\n",
    "            imagebytes = fs.read()\n",
    "        image_widget.value = imagebytes\n",
    "\n",
    "\n",
    "output = widgets.Output()\n",
    "with output:\n",
    "    print(f\"Image {current_iloc + 1} of {max_iloc + 1}\")\n",
    "    display(widgets.VBox([*image_widgets.values()]))\n",
    "\n",
    "\n",
    "def render_next(*args):\n",
    "    global current_iloc, site_granule_map, image_widgets\n",
    "    with output:\n",
    "        output.clear_output()\n",
    "        current_iloc = current_iloc + 1 if current_iloc < max_iloc else 0\n",
    "        print(f\"Image {current_iloc + 1} of {max_iloc + 1}\")\n",
    "        render_comparison_images(site_granule_map.iloc[current_iloc])\n",
    "        for image_widget in image_widgets.values():\n",
    "            display(image_widget)\n",
    "\n",
    "\n",
    "def render_previous(*args):\n",
    "    global current_iloc, site_granule_map, image_widgets\n",
    "    with output:\n",
    "        output.clear_output()\n",
    "        current_iloc = current_iloc - 1 if current_iloc > 0 else max_iloc\n",
    "        print(f\"Image {current_iloc + 1} of {max_iloc + 1}\")\n",
    "        render_comparison_images(site_granule_map.iloc[current_iloc])\n",
    "        for image_widget in image_widgets.values():\n",
    "            display(image_widget)\n",
    "\n",
    "\n",
    "back_button.on_click(render_previous)\n",
    "next_button.on_click(render_next)\n",
    "\n",
    "render_comparison_images(site_granule_map.iloc[current_iloc])\n",
    "\n",
    "buttons = widgets.HBox([back_button, next_button])\n",
    "\n",
    "display(buttons, widgets.Box([output]))"
   ]
  },
  {
   "cell_type": "markdown",
   "id": "dbc4adaa-b8e7-465a-aa37-11344efb1362",
   "metadata": {},
   "source": [
    "`torchgeo_pwr_unet_emit_` 54 vs 56 vs 58: 56 appears to be the best model so far:\n",
    "* less background noise\n",
    "* only one to get images 10, 25\n",
    "* nice example of fewer FPs in images 20, 21, 27\n",
    "* all models do poorly: 26\n",
    "* but 56 is the least confident on image 2!\n",
    "\n",
    "Matched filter has \"plume-ier\" plumes but also worse SNR, so hard to say if they could be extracted."
   ]
  },
  {
   "cell_type": "markdown",
   "id": "3b5f614b-2d31-435c-aae1-6e0994dbcde7",
   "metadata": {},
   "source": [
    "`emit_8` vs `torchgeo_pwr_unet_emit_56`\n",
    "\n",
    "- generally pretty much the same (but 8 appears to have trained much faster!)\n",
    "- 56 does better: image 29, 34, 37\n",
    "- 8 does better: 33, 42, 54\n",
    "- all do poorly: 24"
   ]
  },
  {
   "cell_type": "code",
   "execution_count": null,
   "id": "c915fcb1-266f-4ef0-a301-37c96e43dac7",
   "metadata": {},
   "outputs": [],
   "source": []
  }
 ],
 "metadata": {
  "kernelspec": {
   "display_name": "Python 3 (ipykernel)",
   "language": "python",
   "name": "python3"
  },
  "language_info": {
   "codemirror_mode": {
    "name": "ipython",
    "version": 3
   },
   "file_extension": ".py",
   "mimetype": "text/x-python",
   "name": "python",
   "nbconvert_exporter": "python",
   "pygments_lexer": "ipython3",
   "version": "3.10.12"
  }
 },
 "nbformat": 4,
 "nbformat_minor": 5
}
