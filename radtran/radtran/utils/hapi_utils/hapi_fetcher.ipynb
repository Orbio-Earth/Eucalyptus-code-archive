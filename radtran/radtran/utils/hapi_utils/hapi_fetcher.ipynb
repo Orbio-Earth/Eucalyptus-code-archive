{
 "cells": [
  {
   "cell_type": "code",
   "execution_count": 40,
   "id": "155fe606",
   "metadata": {
    "execution": {
     "iopub.execute_input": "2024-11-27T12:09:46.961289Z",
     "iopub.status.busy": "2024-11-27T12:09:46.960462Z",
     "iopub.status.idle": "2024-11-27T12:09:47.005529Z",
     "shell.execute_reply": "2024-11-27T12:09:47.000623Z",
     "shell.execute_reply.started": "2024-11-27T12:09:46.961248Z"
    }
   },
   "outputs": [],
   "source": [
    "# Imports\n",
    "import json\n",
    "import logging\n",
    "import os\n",
    "\n",
    "import numpy as np\n",
    "from hapi import absorptionCoefficient_Voigt, absorptionCoefficient_Lorentz, fetch_by_ids\n",
    "\n",
    "logging.basicConfig(level=logging.INFO)\n",
    "logger = logging.getLogger()\n",
    "dirname = \".\"\n",
    "\n",
    "\n",
    "def hapi_setup(\n",
    "    table_name,\n",
    "    sat_name,\n",
    "    band,\n",
    "    DOWNLOAD_FILE_PATH,\n",
    "    iso_id_file=os.path.join(dirname, \"iso_ids.json\"),\n",
    "    sat_param_file=os.path.join(dirname, \"satellite_params.json\"),\n",
    "    atm_params_file=os.path.join(dirname, \"atm_params.json\"),\n",
    "    parameter_groups=[\"160-char\"],\n",
    "    parameters=None,\n",
    "):\n",
    "    \"\"\"\n",
    "    Downloads  line-by-line data from the HITRANonline site to a specified location\n",
    "    and Calculate absorption coefficients at different pressures and temperatures.\n",
    "\n",
    "    Arguments\n",
    "    table_name          [String]    :    name of table to fetch in (name of the isotope eg H20)\n",
    "    sat_name            [String]    :    name of the satellite (eg Sentinel2A, Sentinel2B)\n",
    "    band                [String]    :    name of band (eg B11, B12)\n",
    "    DOWNLOAD_FILE_PATH  [String]    :    file path to download to (must end in / ))\n",
    "    iso_id_file         [String]    :    config file of list of isotopologue id's. Default : iso_ids.json\n",
    "    sat_param_file      [String]    :    config file contaning different numbermin and numbermax wavelengths for bands on different satellites. Default: satellite_params.json\n",
    "    atm_params_file     [String]    :    config file with different atmospheric variables\n",
    "    parameters          [String]    :    specifiy extra parameters  explicitly, eg 'deltap air'\n",
    "    \"\"\"\n",
    "    # get params from config JSON files\n",
    "    sat_params = json.load(open(sat_param_file))\n",
    "    # global isotropologue IDs from https://hitran.org/docs/iso-meta/\n",
    "    iso_ids = json.load(open(iso_id_file))\n",
    "    atm_params = json.load(open(atm_params_file))\n",
    "    download_path = DOWNLOAD_FILE_PATH + sat_name + \"/\" + band + \"/\"\n",
    "\n",
    "    # Create directory if it does not exist\n",
    "    if not os.path.exists(os.path.dirname(download_path)):\n",
    "        os.makedirs(os.path.dirname(download_path))\n",
    "\n",
    "    # change to directory to download into\n",
    "    # os.chdir(download_path)\n",
    "\n",
    "    # Read min/max wavelengths of satellite specific bands\n",
    "    wave_min_nm = sat_params[sat_name][band][\"nmmin\"]\n",
    "    wave_max_nm = sat_params[sat_name][band][\"nmmax\"]\n",
    "\n",
    "    # Convert to Wavelengths to Wavenumbers, include in sat_params\n",
    "    wave_min_number, wave_max_number = (1e7 / wave_max_nm, 1e7 / wave_min_nm)\n",
    "\n",
    "    # Define Wavestep Number\n",
    "    # TODO:Understand assumptions behind that number, put into sat_params\n",
    "    wave_step_nm = atm_params[\"wave_step_nm\"]\n",
    "    min_p = atm_params[\"min_p\"]\n",
    "    max_p = atm_params[\"max_p\"]\n",
    "    delta_p = atm_params[\"delta_p\"]\n",
    "    min_temp = atm_params[\"min_temp\"]\n",
    "    max_temp = atm_params[\"max_temp\"]\n",
    "    delta_temp = atm_params[\"delta_temp\"]\n",
    "    number_step = atm_params[\"number_step\"]\n",
    "\n",
    "    p_vector = np.arange(min_p, max_p + delta_p, delta_p)\n",
    "    temp_vector = np.arange(min_temp, max_temp + delta_temp, delta_temp)\n",
    "\n",
    "    len_press = len(p_vector)\n",
    "    len_temp = len(temp_vector)\n",
    "\n",
    "    # Wavelength range\n",
    "    wavelength = np.arange(wave_min_nm, wave_max_nm, wave_step_nm)\n",
    "    len_wave = len(wavelength)\n",
    "\n",
    "    absorption_arr = np.zeros((len_press, len_temp, len_wave))\n",
    "\n",
    "    logger.info(f\"table_name: {table_name}\")\n",
    "    logger.info(f\"iso_ids: {iso_ids[table_name]}\")\n",
    "    logger.info(f\"wave_min_number: {wave_min_number} cm⁻¹\")\n",
    "    logger.info(f\"wave_max_number: {wave_max_number}\")\n",
    "    logger.info(\"Downloading HAPI data with `fetch_by_ids`\")\n",
    "\n",
    "    # Case if parameters argument is/isnt given\n",
    "    if parameters is None:\n",
    "        fetch_by_ids(\n",
    "            table_name,\n",
    "            iso_ids[table_name],\n",
    "            wave_min_number,\n",
    "            wave_max_number,\n",
    "            ParameterGroups=parameter_groups,\n",
    "        )\n",
    "\n",
    "    else:\n",
    "        fetch_by_ids(\n",
    "            table_name,\n",
    "            iso_ids[table_name],\n",
    "            wave_min_number,\n",
    "            wave_max_number,\n",
    "            ParameterGroups=parameter_groups,\n",
    "            Parameters=parameters,\n",
    "        )\n",
    "\n",
    "    logger.info(f\"Calculating Atmospheric cross sections for {table_name}\")\n",
    "\n",
    "    logger.info(f\"Temperatures: {temp_vector}\")\n",
    "    logger.info(f\"Pressures: {p_vector}\")\n",
    "    # calculate atmospheric cross sections across pressure and temperature vectors\n",
    "    for i, p_tmp in enumerate(p_vector):\n",
    "        for j, t_tmp in enumerate(temp_vector):\n",
    "\n",
    "            # Calculate wavenumber and absorption coefficient\n",
    "            logger.info(f\"Getting absorption coefficients for temperature {t_tmp} and pressure {p_tmp}\")\n",
    "            logger.info(f\"Wave number step: {number_step}\")\n",
    "            wavenumber_temp, absorption_temp = absorptionCoefficient_Voigt(\n",
    "                SourceTables=table_name,\n",
    "                Environment={\"T\": t_tmp, \"p\": p_tmp},\n",
    "                WavenumberStep=number_step,\n",
    "            )\n",
    "\n",
    "            # Convert to wavelength\n",
    "            wavelength_temp = 1e7 / wavenumber_temp\n",
    "\n",
    "            # Interpolate onto common grid\n",
    "            absorption_temp_interp = np.interp(wavelength, wavelength_temp[::-1], absorption_temp[::-1])\n",
    "\n",
    "            # Append to liist\n",
    "            absorption_arr[i, j] = absorption_temp_interp\n",
    "\n",
    "    # Save arrays\n",
    "    np.save(os.path.join(download_path, \"abs_wave_hapi_\" + sat_name + \"_band_\" + band + \".npy\"), wavelength)\n",
    "    np.save(os.path.join(download_path, \"abs_press_hapi_\" + sat_name + \"_band_\" + band + \".npy\"), p_vector)\n",
    "    np.save(os.path.join(download_path, \"abs_temp_hapi_\" + sat_name + \"_band_\" + band + \".npy\"), temp_vector)\n",
    "    np.save(\n",
    "        os.path.join(download_path, \n",
    "        \"abs_\" + table_name + \"_hapi_\" + sat_name + \"_band_\" + band + \".npy\"),\n",
    "        absorption_arr,\n",
    "    )\n",
    "    # os.chdir(\"../../../..\")"
   ]
  },
  {
   "cell_type": "code",
   "execution_count": 41,
   "id": "fd2cd0de",
   "metadata": {
    "execution": {
     "iopub.execute_input": "2024-11-27T12:09:48.848329Z",
     "iopub.status.busy": "2024-11-27T12:09:48.847574Z",
     "iopub.status.idle": "2024-11-27T12:35:56.084465Z",
     "shell.execute_reply": "2024-11-27T12:35:56.083403Z",
     "shell.execute_reply.started": "2024-11-27T12:09:48.848291Z"
    }
   },
   "outputs": [
    {
     "name": "stderr",
     "output_type": "stream",
     "text": [
      "INFO:root:table_name: CO2\n",
      "INFO:root:iso_ids: [7, 8, 9]\n",
      "INFO:root:wave_min_number: 4000.0 cm⁻¹\n",
      "INFO:root:wave_max_number: 27027.027027027027\n",
      "INFO:root:Downloading HAPI data with `fetch_by_ids`\n"
     ]
    },
    {
     "name": "stdout",
     "output_type": "stream",
     "text": [
      "\n",
      "Data is fetched from http://hitran.org\n",
      "\n",
      "BEGIN DOWNLOAD: CO2\n",
      "  65536 bytes written to ./CO2.data\n",
      "  65536 bytes written to ./CO2.data\n",
      "  65536 bytes written to ./CO2.data\n",
      "  65536 bytes written to ./CO2.data\n",
      "  65536 bytes written to ./CO2.data\n",
      "  65536 bytes written to ./CO2.data\n",
      "  65536 bytes written to ./CO2.data\n",
      "  65536 bytes written to ./CO2.data\n",
      "  65536 bytes written to ./CO2.data\n",
      "  65536 bytes written to ./CO2.data\n",
      "  65536 bytes written to ./CO2.data\n",
      "  65536 bytes written to ./CO2.data\n",
      "  65536 bytes written to ./CO2.data\n",
      "  65536 bytes written to ./CO2.data\n",
      "  65536 bytes written to ./CO2.data\n",
      "  65536 bytes written to ./CO2.data\n",
      "  65536 bytes written to ./CO2.data\n",
      "  65536 bytes written to ./CO2.data\n",
      "  65536 bytes written to ./CO2.data\n",
      "  65536 bytes written to ./CO2.data\n",
      "  65536 bytes written to ./CO2.data\n",
      "  65536 bytes written to ./CO2.data\n",
      "  65536 bytes written to ./CO2.data\n",
      "  65536 bytes written to ./CO2.data\n",
      "  65536 bytes written to ./CO2.data\n",
      "  65536 bytes written to ./CO2.data\n",
      "  65536 bytes written to ./CO2.data\n",
      "  65536 bytes written to ./CO2.data\n",
      "  65536 bytes written to ./CO2.data\n",
      "  65536 bytes written to ./CO2.data\n",
      "  65536 bytes written to ./CO2.data\n",
      "  65536 bytes written to ./CO2.data\n",
      "  65536 bytes written to ./CO2.data\n",
      "  65536 bytes written to ./CO2.data\n",
      "  65536 bytes written to ./CO2.data\n",
      "  65536 bytes written to ./CO2.data\n",
      "  65536 bytes written to ./CO2.data\n",
      "  65536 bytes written to ./CO2.data\n",
      "  65536 bytes written to ./CO2.data\n",
      "  65536 bytes written to ./CO2.data\n",
      "  65536 bytes written to ./CO2.data\n",
      "  65536 bytes written to ./CO2.data\n",
      "  65536 bytes written to ./CO2.data\n",
      "  65536 bytes written to ./CO2.data\n",
      "  65536 bytes written to ./CO2.data\n",
      "  65536 bytes written to ./CO2.data\n",
      "  65536 bytes written to ./CO2.data\n",
      "  65536 bytes written to ./CO2.data\n",
      "  65536 bytes written to ./CO2.data\n",
      "  65536 bytes written to ./CO2.data\n",
      "  65536 bytes written to ./CO2.data\n",
      "  65536 bytes written to ./CO2.data\n",
      "  65536 bytes written to ./CO2.data\n",
      "  65536 bytes written to ./CO2.data\n",
      "  65536 bytes written to ./CO2.data\n",
      "  65536 bytes written to ./CO2.data\n",
      "  65536 bytes written to ./CO2.data\n",
      "  65536 bytes written to ./CO2.data\n",
      "  65536 bytes written to ./CO2.data\n",
      "  65536 bytes written to ./CO2.data\n",
      "  65536 bytes written to ./CO2.data\n",
      "  65536 bytes written to ./CO2.data\n",
      "  65536 bytes written to ./CO2.data\n",
      "  65536 bytes written to ./CO2.data\n",
      "  65536 bytes written to ./CO2.data\n",
      "  65536 bytes written to ./CO2.data\n",
      "  65536 bytes written to ./CO2.data\n",
      "  65536 bytes written to ./CO2.data\n",
      "  65536 bytes written to ./CO2.data\n",
      "  65536 bytes written to ./CO2.data\n",
      "  65536 bytes written to ./CO2.data\n",
      "  65536 bytes written to ./CO2.data\n",
      "  65536 bytes written to ./CO2.data\n",
      "  65536 bytes written to ./CO2.data\n",
      "  65536 bytes written to ./CO2.data\n",
      "  65536 bytes written to ./CO2.data\n",
      "  65536 bytes written to ./CO2.data\n",
      "  65536 bytes written to ./CO2.data\n",
      "  65536 bytes written to ./CO2.data\n",
      "  65536 bytes written to ./CO2.data\n",
      "  65536 bytes written to ./CO2.data\n",
      "  65536 bytes written to ./CO2.data\n",
      "  65536 bytes written to ./CO2.data\n",
      "  65536 bytes written to ./CO2.data\n",
      "  65536 bytes written to ./CO2.data\n",
      "  65536 bytes written to ./CO2.data\n",
      "  65536 bytes written to ./CO2.data\n",
      "  65536 bytes written to ./CO2.data\n",
      "  65536 bytes written to ./CO2.data\n",
      "  65536 bytes written to ./CO2.data\n",
      "  65536 bytes written to ./CO2.data\n",
      "  65536 bytes written to ./CO2.data\n",
      "  65536 bytes written to ./CO2.data\n",
      "  65536 bytes written to ./CO2.data\n",
      "  65536 bytes written to ./CO2.data\n",
      "  65536 bytes written to ./CO2.data\n",
      "  65536 bytes written to ./CO2.data\n",
      "  65536 bytes written to ./CO2.data\n",
      "  65536 bytes written to ./CO2.data\n",
      "  65536 bytes written to ./CO2.data\n",
      "  65536 bytes written to ./CO2.data\n",
      "  65536 bytes written to ./CO2.data\n",
      "  65536 bytes written to ./CO2.data\n",
      "  65536 bytes written to ./CO2.data\n",
      "  65536 bytes written to ./CO2.data\n",
      "  65536 bytes written to ./CO2.data\n",
      "  65536 bytes written to ./CO2.data\n",
      "  65536 bytes written to ./CO2.data\n",
      "  65536 bytes written to ./CO2.data\n",
      "  65536 bytes written to ./CO2.data\n",
      "  65536 bytes written to ./CO2.data\n",
      "  65536 bytes written to ./CO2.data\n",
      "  65536 bytes written to ./CO2.data\n",
      "  65536 bytes written to ./CO2.data\n",
      "  65536 bytes written to ./CO2.data\n",
      "  65536 bytes written to ./CO2.data\n",
      "  65536 bytes written to ./CO2.data\n",
      "  65536 bytes written to ./CO2.data\n",
      "  65536 bytes written to ./CO2.data\n",
      "  65536 bytes written to ./CO2.data\n",
      "  65536 bytes written to ./CO2.data\n",
      "  65536 bytes written to ./CO2.data\n",
      "  65536 bytes written to ./CO2.data\n",
      "  65536 bytes written to ./CO2.data\n",
      "  65536 bytes written to ./CO2.data\n",
      "  65536 bytes written to ./CO2.data\n",
      "  65536 bytes written to ./CO2.data\n",
      "  65536 bytes written to ./CO2.data\n",
      "  65536 bytes written to ./CO2.data\n",
      "  65536 bytes written to ./CO2.data\n",
      "  65536 bytes written to ./CO2.data\n",
      "  65536 bytes written to ./CO2.data\n",
      "  65536 bytes written to ./CO2.data\n",
      "  65536 bytes written to ./CO2.data\n",
      "  65536 bytes written to ./CO2.data\n",
      "  65536 bytes written to ./CO2.data\n",
      "  65536 bytes written to ./CO2.data\n",
      "  65536 bytes written to ./CO2.data\n",
      "  65536 bytes written to ./CO2.data\n",
      "  65536 bytes written to ./CO2.data\n",
      "  65536 bytes written to ./CO2.data\n",
      "  65536 bytes written to ./CO2.data\n",
      "  65536 bytes written to ./CO2.data\n",
      "  65536 bytes written to ./CO2.data\n",
      "  65536 bytes written to ./CO2.data\n",
      "  65536 bytes written to ./CO2.data\n",
      "  65536 bytes written to ./CO2.data\n",
      "  65536 bytes written to ./CO2.data\n",
      "  65536 bytes written to ./CO2.data\n",
      "  65536 bytes written to ./CO2.data\n",
      "  65536 bytes written to ./CO2.data\n",
      "  65536 bytes written to ./CO2.data\n",
      "  65536 bytes written to ./CO2.data\n",
      "  65536 bytes written to ./CO2.data\n",
      "  65536 bytes written to ./CO2.data\n",
      "  65536 bytes written to ./CO2.data\n",
      "  65536 bytes written to ./CO2.data\n",
      "  65536 bytes written to ./CO2.data\n",
      "  65536 bytes written to ./CO2.data\n",
      "  65536 bytes written to ./CO2.data\n",
      "  65536 bytes written to ./CO2.data\n",
      "  65536 bytes written to ./CO2.data\n",
      "  65536 bytes written to ./CO2.data\n",
      "  65536 bytes written to ./CO2.data\n",
      "  65536 bytes written to ./CO2.data\n",
      "  65536 bytes written to ./CO2.data\n",
      "  65536 bytes written to ./CO2.data\n",
      "  65536 bytes written to ./CO2.data\n",
      "  65536 bytes written to ./CO2.data\n",
      "  65536 bytes written to ./CO2.data\n",
      "  65536 bytes written to ./CO2.data\n",
      "  65536 bytes written to ./CO2.data\n",
      "  65536 bytes written to ./CO2.data\n",
      "  65536 bytes written to ./CO2.data\n",
      "  65536 bytes written to ./CO2.data\n",
      "  65536 bytes written to ./CO2.data\n",
      "  65536 bytes written to ./CO2.data\n",
      "  65536 bytes written to ./CO2.data\n",
      "  65536 bytes written to ./CO2.data\n",
      "  65536 bytes written to ./CO2.data\n",
      "  65536 bytes written to ./CO2.data\n",
      "  65536 bytes written to ./CO2.data\n",
      "  65536 bytes written to ./CO2.data\n",
      "  65536 bytes written to ./CO2.data\n",
      "  65536 bytes written to ./CO2.data\n",
      "  65536 bytes written to ./CO2.data\n",
      "  65536 bytes written to ./CO2.data\n",
      "  65536 bytes written to ./CO2.data\n",
      "  65536 bytes written to ./CO2.data\n",
      "  65536 bytes written to ./CO2.data\n",
      "  65536 bytes written to ./CO2.data\n",
      "  65536 bytes written to ./CO2.data\n",
      "  65536 bytes written to ./CO2.data\n",
      "  65536 bytes written to ./CO2.data\n",
      "  65536 bytes written to ./CO2.data\n",
      "  65536 bytes written to ./CO2.data\n",
      "  65536 bytes written to ./CO2.data\n",
      "  65536 bytes written to ./CO2.data\n",
      "  65536 bytes written to ./CO2.data\n",
      "  65536 bytes written to ./CO2.data\n",
      "  65536 bytes written to ./CO2.data\n",
      "  65536 bytes written to ./CO2.data\n",
      "  65536 bytes written to ./CO2.data\n",
      "  65536 bytes written to ./CO2.data\n",
      "  65536 bytes written to ./CO2.data\n",
      "  65536 bytes written to ./CO2.data\n",
      "  65536 bytes written to ./CO2.data\n",
      "  65536 bytes written to ./CO2.data\n",
      "  65536 bytes written to ./CO2.data\n",
      "  65536 bytes written to ./CO2.data\n",
      "  65536 bytes written to ./CO2.data\n",
      "  65536 bytes written to ./CO2.data\n",
      "  65536 bytes written to ./CO2.data\n",
      "  65536 bytes written to ./CO2.data\n",
      "  65536 bytes written to ./CO2.data\n",
      "  65536 bytes written to ./CO2.data\n",
      "  65536 bytes written to ./CO2.data\n",
      "  65536 bytes written to ./CO2.data\n",
      "  65536 bytes written to ./CO2.data\n",
      "  65536 bytes written to ./CO2.data\n",
      "  65536 bytes written to ./CO2.data\n",
      "  65536 bytes written to ./CO2.data\n",
      "  65536 bytes written to ./CO2.data\n",
      "  65536 bytes written to ./CO2.data\n",
      "  65536 bytes written to ./CO2.data\n",
      "  65536 bytes written to ./CO2.data\n",
      "  65536 bytes written to ./CO2.data\n",
      "  65536 bytes written to ./CO2.data\n",
      "  65536 bytes written to ./CO2.data\n",
      "  65536 bytes written to ./CO2.data\n",
      "  65536 bytes written to ./CO2.data\n",
      "  65536 bytes written to ./CO2.data\n",
      "  65536 bytes written to ./CO2.data\n",
      "  65536 bytes written to ./CO2.data\n",
      "  65536 bytes written to ./CO2.data\n",
      "  65536 bytes written to ./CO2.data\n",
      "  65536 bytes written to ./CO2.data\n",
      "  65536 bytes written to ./CO2.data\n",
      "  65536 bytes written to ./CO2.data\n",
      "  65536 bytes written to ./CO2.data\n",
      "  65536 bytes written to ./CO2.data\n",
      "  65536 bytes written to ./CO2.data\n",
      "  65536 bytes written to ./CO2.data\n",
      "  65536 bytes written to ./CO2.data\n",
      "  65536 bytes written to ./CO2.data\n",
      "  65536 bytes written to ./CO2.data\n",
      "  65536 bytes written to ./CO2.data\n",
      "  65536 bytes written to ./CO2.data\n",
      "  65536 bytes written to ./CO2.data\n",
      "  65536 bytes written to ./CO2.data\n",
      "  65536 bytes written to ./CO2.data\n",
      "  65536 bytes written to ./CO2.data\n",
      "  65536 bytes written to ./CO2.data\n",
      "  65536 bytes written to ./CO2.data\n",
      "  65536 bytes written to ./CO2.data\n",
      "  65536 bytes written to ./CO2.data\n",
      "  65536 bytes written to ./CO2.data\n",
      "  65536 bytes written to ./CO2.data\n",
      "  65536 bytes written to ./CO2.data\n",
      "  65536 bytes written to ./CO2.data\n",
      "  65536 bytes written to ./CO2.data\n",
      "  65536 bytes written to ./CO2.data\n",
      "  65536 bytes written to ./CO2.data\n",
      "  65536 bytes written to ./CO2.data\n",
      "  65536 bytes written to ./CO2.data\n",
      "  65536 bytes written to ./CO2.data\n",
      "  65536 bytes written to ./CO2.data\n",
      "  65536 bytes written to ./CO2.data\n",
      "  65536 bytes written to ./CO2.data\n",
      "  65536 bytes written to ./CO2.data\n",
      "  65536 bytes written to ./CO2.data\n",
      "  65536 bytes written to ./CO2.data\n",
      "  65536 bytes written to ./CO2.data\n",
      "  65536 bytes written to ./CO2.data\n",
      "  65536 bytes written to ./CO2.data\n",
      "  65536 bytes written to ./CO2.data\n",
      "  65536 bytes written to ./CO2.data\n",
      "  65536 bytes written to ./CO2.data\n",
      "  65536 bytes written to ./CO2.data\n",
      "  65536 bytes written to ./CO2.data\n",
      "  65536 bytes written to ./CO2.data\n",
      "  65536 bytes written to ./CO2.data\n",
      "  65536 bytes written to ./CO2.data\n",
      "  65536 bytes written to ./CO2.data\n",
      "  65536 bytes written to ./CO2.data\n",
      "  65536 bytes written to ./CO2.data\n",
      "  65536 bytes written to ./CO2.data\n",
      "  65536 bytes written to ./CO2.data\n",
      "  65536 bytes written to ./CO2.data\n",
      "  65536 bytes written to ./CO2.data\n",
      "  65536 bytes written to ./CO2.data\n",
      "  65536 bytes written to ./CO2.data\n",
      "  65536 bytes written to ./CO2.data\n",
      "  65536 bytes written to ./CO2.data\n",
      "  65536 bytes written to ./CO2.data\n",
      "  65536 bytes written to ./CO2.data\n",
      "  65536 bytes written to ./CO2.data\n",
      "  65536 bytes written to ./CO2.data\n",
      "  65536 bytes written to ./CO2.data\n",
      "  65536 bytes written to ./CO2.data\n",
      "  65536 bytes written to ./CO2.data\n",
      "  65536 bytes written to ./CO2.data\n",
      "  65536 bytes written to ./CO2.data\n",
      "  65536 bytes written to ./CO2.data\n",
      "  65536 bytes written to ./CO2.data\n",
      "  65536 bytes written to ./CO2.data\n",
      "  65536 bytes written to ./CO2.data\n",
      "  65536 bytes written to ./CO2.data\n",
      "  65536 bytes written to ./CO2.data\n",
      "  65536 bytes written to ./CO2.data\n",
      "  65536 bytes written to ./CO2.data\n",
      "  65536 bytes written to ./CO2.data\n",
      "  65536 bytes written to ./CO2.data\n",
      "  65536 bytes written to ./CO2.data\n",
      "Header written to ./CO2.header\n",
      "END DOWNLOAD\n"
     ]
    },
    {
     "name": "stderr",
     "output_type": "stream",
     "text": [
      "INFO:root:Calculating Atmospheric cross sections for CO2\n",
      "INFO:root:Temperatures: [250 275 300 325]\n",
      "INFO:root:Pressures: [0.8 0.9 1.  1.1 1.2]\n",
      "INFO:root:Getting absorption coefficients for temperature 250 and pressure 0.8\n",
      "INFO:root:Wave number step: 0.01\n"
     ]
    },
    {
     "name": "stdout",
     "output_type": "stream",
     "text": [
      "                     Lines parsed: 127713\n",
      "PROCESSED\n",
      "{'air': 1.0}\n"
     ]
    },
    {
     "name": "stderr",
     "output_type": "stream",
     "text": [
      "INFO:root:Getting absorption coefficients for temperature 275 and pressure 0.8\n",
      "INFO:root:Wave number step: 0.01\n"
     ]
    },
    {
     "name": "stdout",
     "output_type": "stream",
     "text": [
      "{'air': 1.0}\n"
     ]
    },
    {
     "name": "stderr",
     "output_type": "stream",
     "text": [
      "INFO:root:Getting absorption coefficients for temperature 300 and pressure 0.8\n",
      "INFO:root:Wave number step: 0.01\n"
     ]
    },
    {
     "name": "stdout",
     "output_type": "stream",
     "text": [
      "{'air': 1.0}\n"
     ]
    },
    {
     "name": "stderr",
     "output_type": "stream",
     "text": [
      "INFO:root:Getting absorption coefficients for temperature 325 and pressure 0.8\n",
      "INFO:root:Wave number step: 0.01\n"
     ]
    },
    {
     "name": "stdout",
     "output_type": "stream",
     "text": [
      "{'air': 1.0}\n"
     ]
    },
    {
     "name": "stderr",
     "output_type": "stream",
     "text": [
      "INFO:root:Getting absorption coefficients for temperature 250 and pressure 0.9\n",
      "INFO:root:Wave number step: 0.01\n"
     ]
    },
    {
     "name": "stdout",
     "output_type": "stream",
     "text": [
      "{'air': 1.0}\n"
     ]
    },
    {
     "name": "stderr",
     "output_type": "stream",
     "text": [
      "INFO:root:Getting absorption coefficients for temperature 275 and pressure 0.9\n",
      "INFO:root:Wave number step: 0.01\n"
     ]
    },
    {
     "name": "stdout",
     "output_type": "stream",
     "text": [
      "{'air': 1.0}\n"
     ]
    },
    {
     "name": "stderr",
     "output_type": "stream",
     "text": [
      "INFO:root:Getting absorption coefficients for temperature 300 and pressure 0.9\n",
      "INFO:root:Wave number step: 0.01\n"
     ]
    },
    {
     "name": "stdout",
     "output_type": "stream",
     "text": [
      "{'air': 1.0}\n"
     ]
    },
    {
     "name": "stderr",
     "output_type": "stream",
     "text": [
      "INFO:root:Getting absorption coefficients for temperature 325 and pressure 0.9\n",
      "INFO:root:Wave number step: 0.01\n"
     ]
    },
    {
     "name": "stdout",
     "output_type": "stream",
     "text": [
      "{'air': 1.0}\n"
     ]
    },
    {
     "name": "stderr",
     "output_type": "stream",
     "text": [
      "INFO:root:Getting absorption coefficients for temperature 250 and pressure 1.0\n",
      "INFO:root:Wave number step: 0.01\n"
     ]
    },
    {
     "name": "stdout",
     "output_type": "stream",
     "text": [
      "{'air': 1.0}\n"
     ]
    },
    {
     "name": "stderr",
     "output_type": "stream",
     "text": [
      "INFO:root:Getting absorption coefficients for temperature 275 and pressure 1.0\n",
      "INFO:root:Wave number step: 0.01\n"
     ]
    },
    {
     "name": "stdout",
     "output_type": "stream",
     "text": [
      "{'air': 1.0}\n"
     ]
    },
    {
     "name": "stderr",
     "output_type": "stream",
     "text": [
      "INFO:root:Getting absorption coefficients for temperature 300 and pressure 1.0\n",
      "INFO:root:Wave number step: 0.01\n"
     ]
    },
    {
     "name": "stdout",
     "output_type": "stream",
     "text": [
      "{'air': 1.0}\n"
     ]
    },
    {
     "name": "stderr",
     "output_type": "stream",
     "text": [
      "INFO:root:Getting absorption coefficients for temperature 325 and pressure 1.0\n",
      "INFO:root:Wave number step: 0.01\n"
     ]
    },
    {
     "name": "stdout",
     "output_type": "stream",
     "text": [
      "{'air': 1.0}\n"
     ]
    },
    {
     "name": "stderr",
     "output_type": "stream",
     "text": [
      "INFO:root:Getting absorption coefficients for temperature 250 and pressure 1.1\n",
      "INFO:root:Wave number step: 0.01\n"
     ]
    },
    {
     "name": "stdout",
     "output_type": "stream",
     "text": [
      "{'air': 1.0}\n"
     ]
    },
    {
     "name": "stderr",
     "output_type": "stream",
     "text": [
      "INFO:root:Getting absorption coefficients for temperature 275 and pressure 1.1\n",
      "INFO:root:Wave number step: 0.01\n"
     ]
    },
    {
     "name": "stdout",
     "output_type": "stream",
     "text": [
      "{'air': 1.0}\n"
     ]
    },
    {
     "name": "stderr",
     "output_type": "stream",
     "text": [
      "INFO:root:Getting absorption coefficients for temperature 300 and pressure 1.1\n",
      "INFO:root:Wave number step: 0.01\n"
     ]
    },
    {
     "name": "stdout",
     "output_type": "stream",
     "text": [
      "{'air': 1.0}\n"
     ]
    },
    {
     "name": "stderr",
     "output_type": "stream",
     "text": [
      "INFO:root:Getting absorption coefficients for temperature 325 and pressure 1.1\n",
      "INFO:root:Wave number step: 0.01\n"
     ]
    },
    {
     "name": "stdout",
     "output_type": "stream",
     "text": [
      "{'air': 1.0}\n"
     ]
    },
    {
     "name": "stderr",
     "output_type": "stream",
     "text": [
      "INFO:root:Getting absorption coefficients for temperature 250 and pressure 1.2\n",
      "INFO:root:Wave number step: 0.01\n"
     ]
    },
    {
     "name": "stdout",
     "output_type": "stream",
     "text": [
      "{'air': 1.0}\n"
     ]
    },
    {
     "name": "stderr",
     "output_type": "stream",
     "text": [
      "INFO:root:Getting absorption coefficients for temperature 275 and pressure 1.2\n",
      "INFO:root:Wave number step: 0.01\n"
     ]
    },
    {
     "name": "stdout",
     "output_type": "stream",
     "text": [
      "{'air': 1.0}\n"
     ]
    },
    {
     "name": "stderr",
     "output_type": "stream",
     "text": [
      "INFO:root:Getting absorption coefficients for temperature 300 and pressure 1.2\n",
      "INFO:root:Wave number step: 0.01\n"
     ]
    },
    {
     "name": "stdout",
     "output_type": "stream",
     "text": [
      "{'air': 1.0}\n"
     ]
    },
    {
     "name": "stderr",
     "output_type": "stream",
     "text": [
      "INFO:root:Getting absorption coefficients for temperature 325 and pressure 1.2\n",
      "INFO:root:Wave number step: 0.01\n"
     ]
    },
    {
     "name": "stdout",
     "output_type": "stream",
     "text": [
      "{'air': 1.0}\n"
     ]
    }
   ],
   "source": [
    "# os.chdir('../../../..')\n",
    "# hapi_setup(\"CH4\", \"EMIT\", \"VSWIR\", \"data/hapi_data/\")\n",
    "# hapi_setup(\"H20\", \"EMIT\", \"VSWIR\", \"data/hapi_data/\")\n",
    "hapi_setup(\"CO2\", \"EMIT\", \"VSWIR\", \"data/hapi_data/\")"
   ]
  },
  {
   "cell_type": "code",
   "execution_count": null,
   "id": "9794d8f7-d20b-4c41-bf4f-35e8ba4fd528",
   "metadata": {},
   "outputs": [],
   "source": []
  }
 ],
 "metadata": {
  "kernelspec": {
   "display_name": "data-product",
   "language": "python",
   "name": "data-product"
  },
  "language_info": {
   "codemirror_mode": {
    "name": "ipython",
    "version": 3
   },
   "file_extension": ".py",
   "mimetype": "text/x-python",
   "name": "python",
   "nbconvert_exporter": "python",
   "pygments_lexer": "ipython3",
   "version": "3.10.12"
  }
 },
 "nbformat": 4,
 "nbformat_minor": 5
}
